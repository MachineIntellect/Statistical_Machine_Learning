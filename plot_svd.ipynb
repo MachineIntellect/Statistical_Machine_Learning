{
 "cells": [
  {
   "cell_type": "code",
   "execution_count": 1,
   "metadata": {},
   "outputs": [
    {
     "name": "stdout",
     "output_type": "stream",
     "text": [
      "Populating the interactive namespace from numpy and matplotlib\n"
     ]
    }
   ],
   "source": [
    "%pylab inline"
   ]
  },
  {
   "cell_type": "code",
   "execution_count": 2,
   "metadata": {
    "collapsed": true
   },
   "outputs": [],
   "source": [
    "A = np.array([[1.25, 0.75],\n",
    "        [0.75, 1.25]])"
   ]
  },
  {
   "cell_type": "code",
   "execution_count": 3,
   "metadata": {
    "collapsed": true
   },
   "outputs": [],
   "source": [
    "from sklearn.utils.extmath import randomized_svd\n",
    "U_matrix, Sigma_matrix, VT_matrix = randomized_svd(A, n_components=2,\n",
    "                  n_iter=5,\n",
    "                  random_state=0)"
   ]
  },
  {
   "cell_type": "code",
   "execution_count": 4,
   "metadata": {
    "collapsed": true
   },
   "outputs": [],
   "source": [
    "def plot_vector(ax,vec,color):\n",
    "    ax.arrow(0, 0, vec[0], vec[1], head_width=0.15, color=color, length_includes_head=True)"
   ]
  },
  {
   "cell_type": "code",
   "execution_count": 5,
   "metadata": {
    "collapsed": true
   },
   "outputs": [],
   "source": [
    "# vs stands for vector space\n",
    "def plot_vs(x, y, ax):\n",
    "    lim = 2\n",
    "    ax.set_xlim(-lim,lim)\n",
    "    ax.set_ylim(-lim,lim)\n",
    "    ax.set_xticks(np.arange(-lim,lim+.1))\n",
    "    ax.grid(True)\n",
    "    ax.scatter(x,y,s=.5)"
   ]
  },
  {
   "cell_type": "code",
   "execution_count": 6,
   "metadata": {},
   "outputs": [
    {
     "data": {
      "image/png": "[encoded data removed]",
      "text/plain": [
       "<Figure size 864x360 with 2 Axes>"
      ]
     },
     "metadata": {},
     "output_type": "display_data"
    }
   ],
   "source": [
    "f, axs = plt.subplots(1, 2, figsize = (12,5))\n",
    "\n",
    "axs[0].set_title('Before mutiplication ')\n",
    "e1 = [1,0]\n",
    "e2 = [0,1]\n",
    "thetas = np.arange(-np.pi, np.pi, .05)\n",
    "coordinates = np.vstack((np.cos(thetas),np.sin(thetas)))\n",
    "\n",
    "plot_vs(coordinates[0,:],coordinates[1,:],axs[0])\n",
    "plot_vector(axs[0],e1,'r')\n",
    "plot_vector(axs[0],e2,'b')\n",
    "\n",
    "axs[1].set_title('After mutiplication')\n",
    "v1 = np.dot(A,e1)\n",
    "v2 = np.dot(A,e2)\n",
    "x, y = np.dot(A,coordinates)\n",
    "\n",
    "plot_vs(x, y, axs[1])\n",
    "plot_vector(axs[1],v1,'b')\n",
    "plot_vector(axs[1],v2,'r')\n",
    "plot_vector(axs[1],VT_matrix[0]*Sigma_matrix[0] ,'k')\n",
    "plot_vector(axs[1],VT_matrix[1]*Sigma_matrix[1] ,'k')"
   ]
  },
  {
   "cell_type": "code",
   "execution_count": null,
   "metadata": {
    "collapsed": true
   },
   "outputs": [],
   "source": []
  }
 ],
 "metadata": {
  "kernelspec": {
   "display_name": "Python 3",
   "language": "python",
   "name": "python3"
  },
  "language_info": {
   "codemirror_mode": {
    "name": "ipython",
    "version": 3
   },
   "file_extension": ".py",
   "mimetype": "text/x-python",
   "name": "python",
   "nbconvert_exporter": "python",
   "pygments_lexer": "ipython3",
   "version": "3.6.2"
  },
  "toc": {
   "base_numbering": 1,
   "nav_menu": {},
   "number_sections": true,
   "sideBar": true,
   "skip_h1_title": false,
   "title_cell": "Table of Contents",
   "title_sidebar": "Contents",
   "toc_cell": false,
   "toc_position": {},
   "toc_section_display": true,
   "toc_window_display": false
  }
 },
 "nbformat": 4,
 "nbformat_minor": 2
}
